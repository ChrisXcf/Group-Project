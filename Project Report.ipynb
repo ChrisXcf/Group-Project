{
 "cells": [
  {
   "cell_type": "markdown",
   "id": "4f6f4baa",
   "metadata": {},
   "source": [
    "# Project Report\n",
    "---"
   ]
  },
  {
   "cell_type": "markdown",
   "id": "d4261f14",
   "metadata": {},
   "source": [
    "<font size=3>This Report is to show the output of codes and explain how the codes work about coronavirus epidemic in our group project. Since most of these codes need to read the '<font color=red>**data.csv**</font>' file, please find the '<font color=red>**data.csv**</font>' in our Github [here](https://www.pastefile.com/9bdxqe) and download it.</font>"
   ]
  },
  {
   "cell_type": "markdown",
   "id": "84aab96b",
   "metadata": {},
   "source": [
    "### Function: database_of_SIR()\n",
    "---"
   ]
  },
  {
   "cell_type": "code",
   "execution_count": 7,
   "id": "61e57cbe",
   "metadata": {},
   "outputs": [
    {
     "name": "stdout",
     "output_type": "stream",
     "text": [
      "                Area       Date  susceptible(S)  infected(I)  recovered(R)\n",
      "0   Bristol, City of   2022/4/1            0.54         0.23          0.23\n",
      "1   Bristol, City of   2022/4/2            0.54         0.23          0.23\n",
      "2   Bristol, City of   2022/4/3            0.54         0.23          0.23\n",
      "3   Bristol, City of   2022/4/4            0.53         0.23          0.23\n",
      "4   Bristol, City of   2022/4/5            0.53         0.23          0.23\n",
      "5   Bristol, City of   2022/4/6            0.53         0.23          0.23\n",
      "6   Bristol, City of   2022/4/7            0.53         0.23          0.23\n",
      "7   Bristol, City of   2022/4/8            0.53         0.23          0.23\n",
      "8   Bristol, City of   2022/4/9            0.53         0.23          0.23\n",
      "9   Bristol, City of  2022/4/10            0.53         0.24          0.23\n",
      "10  Bristol, City of  2022/4/11            0.53         0.24          0.23\n",
      "11  Bristol, City of  2022/4/12            0.53         0.24          0.23\n",
      "12  Bristol, City of  2022/4/13            0.53         0.24          0.24\n",
      "13  Bristol, City of  2022/4/14            0.53         0.24          0.24\n",
      "14  Bristol, City of  2022/4/15            0.53         0.24          0.24\n",
      "15  Bristol, City of  2022/4/16            0.53         0.24          0.24\n",
      "16  Bristol, City of  2022/4/17            0.53         0.24          0.24\n",
      "17  Bristol, City of  2022/4/18            0.53         0.24          0.24\n",
      "18  Bristol, City of  2022/4/19            0.53         0.24          0.24\n",
      "19  Bristol, City of  2022/4/20            0.53         0.24          0.24\n",
      "20  Bristol, City of  2022/4/21            0.53         0.24          0.24\n",
      "21  Bristol, City of  2022/4/22            0.53         0.24          0.24\n",
      "22  Bristol, City of  2022/4/23            0.53         0.24          0.24\n",
      "23  Bristol, City of  2022/4/24            0.52         0.24          0.24\n",
      "24  Bristol, City of  2022/4/25            0.52         0.24          0.24\n",
      "25  Bristol, City of  2022/4/26            0.52         0.24          0.24\n",
      "26  Bristol, City of  2022/4/27            0.52         0.24          0.24\n",
      "27  Bristol, City of  2022/4/28            0.52         0.24          0.24\n"
     ]
    }
   ],
   "source": [
    "def database_of_SIR():\n",
    "    \n",
    "    import pandas as pd\n",
    "\n",
    "    dB = pd.read_csv('./data.csv', sep = ',')             # Read the data sheet of 'data.csv'   \n",
    "    return dB\n",
    "\n",
    "    \n",
    "print(database_of_SIR())"
   ]
  },
  {
   "cell_type": "markdown",
   "id": "38ad286c",
   "metadata": {},
   "source": [
    "The function <font color= black>**database_of_SIR()**</font> is used to show the datasheet of SIR situation (percentage) in Bristol from 2022/4/1 to 2022/4/28."
   ]
  },
  {
   "cell_type": "markdown",
   "id": "aa248635",
   "metadata": {},
   "source": [
    "### Function: susceptible_plot()\n",
    "---"
   ]
  },
  {
   "cell_type": "code",
   "execution_count": 2,
   "id": "08e65be4",
   "metadata": {},
   "outputs": [
    {
     "data": {
      "image/png": "[encoded data removed]",
      "text/plain": [
       "<Figure size 432x288 with 1 Axes>"
      ]
     },
     "metadata": {
      "needs_background": "light"
     },
     "output_type": "display_data"
    }
   ],
   "source": [
    "def susceptible_plot():\n",
    "    import pandas as pd\n",
    "    import numpy as np\n",
    "    import matplotlib.pyplot as plt\n",
    "\n",
    "    dB = pd.read_csv('./data.csv', sep = ',')\n",
    "\n",
    "    S = dB['susceptible(S)']                   #  Obtain the column in this column name 'susceptible(S)'     \n",
    "    S = np.array(S)                            #  Convert the form sheet into the array\n",
    "\n",
    "    plt.plot(S)\n",
    "    plt.xlabel('t')                            #  Add the label 't' in the x axies \n",
    "    plt.title('Susceptible(S)')                #  The title of this plot \n",
    "    plt.show()\n",
    "\n",
    "susceptible_plot()"
   ]
  },
  {
   "cell_type": "markdown",
   "id": "e0ad83e3",
   "metadata": {},
   "source": [
    "The function <font color= blue>**susceptible_plot()**</font> plots the percentage of Susceptible(S) people diagram over time in Bristol."
   ]
  },
  {
   "cell_type": "markdown",
   "id": "bf553cef",
   "metadata": {},
   "source": [
    "### Function: infected_plot()\n",
    "---"
   ]
  },
  {
   "cell_type": "code",
   "execution_count": 3,
   "id": "26816216",
   "metadata": {},
   "outputs": [
    {
     "data": {
      "image/png": "[encoded data removed]",
      "text/plain": [
       "<Figure size 432x288 with 1 Axes>"
      ]
     },
     "metadata": {
      "needs_background": "light"
     },
     "output_type": "display_data"
    }
   ],
   "source": [
    "def infected_plot():\n",
    "    import pandas as pd\n",
    "    import numpy as np\n",
    "    import matplotlib.pyplot as plt\n",
    "\n",
    "    dB = pd.read_csv('./data.csv', sep = ',')\n",
    "\n",
    "    I = dB['infected(I)']                #  Obtain the column in this column name 'infected(I)'\n",
    "    I = np.array(I)                      #  Convert the form sheet into the array\n",
    "\n",
    "    plt.plot(I)\n",
    "    plt.xlabel('t')\n",
    "    plt.title('Infected(I)')\n",
    "    plt.show()\n",
    "\n",
    "infected_plot()"
   ]
  },
  {
   "cell_type": "markdown",
   "id": "030df35a",
   "metadata": {},
   "source": [
    "The function <font color= red>**infected_plot()**</font> plots the percentage of Infected(I) people diagram over time in Bristol."
   ]
  },
  {
   "cell_type": "markdown",
   "id": "dc306a55",
   "metadata": {},
   "source": [
    "### Function: recovered_plot()\n",
    "---"
   ]
  },
  {
   "cell_type": "code",
   "execution_count": 4,
   "id": "e5ac3fff",
   "metadata": {},
   "outputs": [
    {
     "data": {
      "image/png": "[encoded data removed]",
      "text/plain": [
       "<Figure size 432x288 with 1 Axes>"
      ]
     },
     "metadata": {
      "needs_background": "light"
     },
     "output_type": "display_data"
    }
   ],
   "source": [
    "def recovered_plot():\n",
    "    import pandas as pd\n",
    "    import numpy as np\n",
    "    import matplotlib.pyplot as plt\n",
    "\n",
    "    dB = pd.read_csv('./data.csv', sep = ',')\n",
    "\n",
    "    R = dB['recovered(R)']                           #  Obtain the column in this column name 'recovered(R)'\n",
    "    R = np.array(R)\n",
    "\n",
    "    plt.plot(R)\n",
    "    plt.xlabel('t')\n",
    "    plt.title('Recovered(R)')\n",
    "    plt.show()\n",
    "\n",
    "recovered_plot()"
   ]
  },
  {
   "cell_type": "markdown",
   "id": "98edcdf7",
   "metadata": {},
   "source": [
    "The function <font color=blue>**recovered_plot()**</font> plots the percentage of Recovered(R) people diagram over time in Bristol."
   ]
  },
  {
   "cell_type": "markdown",
   "id": "f6f6f5df",
   "metadata": {},
   "source": [
    "### Function: SIR_diagram()\n",
    "---"
   ]
  },
  {
   "cell_type": "code",
   "execution_count": 5,
   "id": "4e746873",
   "metadata": {},
   "outputs": [
    {
     "data": {
      "image/png": "[encoded data removed]",
      "text/plain": [
       "<Figure size 432x288 with 1 Axes>"
      ]
     },
     "metadata": {
      "needs_background": "light"
     },
     "output_type": "display_data"
    }
   ],
   "source": [
    "def SIR_diagram():\n",
    "    import pandas as pd\n",
    "    import numpy as np\n",
    "    import matplotlib.pyplot as plt\n",
    "\n",
    "    dB = pd.read_csv('./data.csv', sep = ',')\n",
    "\n",
    "    S = dB['susceptible(S)']\n",
    "    S = np.array(S)\n",
    "\n",
    "    I = dB['infected(I)']\n",
    "    I = np.array(I)\n",
    "\n",
    "    R = dB['recovered(R)']\n",
    "    R = np.array(R)\n",
    "\n",
    "    plt.plot(S)\n",
    "    plt.plot(I)\n",
    "    plt.plot(R)\n",
    "    plt.legend(['susceptible', 'infected', 'recovered'], shadow=True)       #  Add the legend of the SIR\n",
    "    plt.xlabel('t')\n",
    "    plt.title('SIR diagram')\n",
    "\n",
    "SIR_diagram()"
   ]
  },
  {
   "cell_type": "markdown",
   "id": "c319fd61",
   "metadata": {},
   "source": [
    "**SIR_diagram()** function combine <font color=red>**Susceptible(S)**</font>, <font color=blue>**Infected(I)**</font> and **Recovered(R)** data together to show the plot in one diagram."
   ]
  },
  {
   "cell_type": "markdown",
   "id": "29e88c71",
   "metadata": {},
   "source": [
    "### Function: SIR_model()\n",
    "---"
   ]
  },
  {
   "cell_type": "code",
   "execution_count": 3,
   "id": "ee1855b1",
   "metadata": {},
   "outputs": [
    {
     "data": {
      "image/png": "[encoded data removed]",
      "text/plain": [
       "<Figure size 432x288 with 1 Axes>"
      ]
     },
     "metadata": {
      "needs_background": "light"
     },
     "output_type": "display_data"
    }
   ],
   "source": [
    "def SIR_model():\n",
    "    from scipy.integrate import solve_ivp\n",
    "    import numpy as np\n",
    "    import matplotlib.pyplot as plt\n",
    "\n",
    "\n",
    "    beta = 0.23\n",
    "    gamma = 0.07            #  Set the parameters beta & gamma \n",
    "    def SIRode(t, y):\n",
    "        return [-beta*y[0]*y[1], beta*y[0]*y[1] - gamma*y[1], gamma*y[1]]      #  Define SIRode as the SIR differential equation model\n",
    "\n",
    "    y0 = [.52, .24, .24]           #  Create a vector of initial conditions (percentage of people who are S, I and R)\n",
    "    \n",
    "    tspan = [0, 28]                #  Set the time span for SIR simulation\n",
    "\n",
    "    sol = solve_ivp(SIRode, tspan, y0,t_eval = np.linspace(0, 28,num=101))        #  Invoke the solve_ivp function to solve the ODE\n",
    "\n",
    "    plt.plot(sol.t, sol.y.T)\n",
    "    plt.legend(['susceptible', 'infected', 'recovered'], shadow=True)\n",
    "    plt.xlabel('t')\n",
    "    plt.title('SIR model')\n",
    "    return\n",
    "\n",
    "SIR_model()"
   ]
  },
  {
   "cell_type": "markdown",
   "id": "b3864a3e",
   "metadata": {},
   "source": [
    "**SIR_model plot** shows the prediction about how SIR changes in the future 28 days from 2022/4/28 in Bristol."
   ]
  }
 ],
 "metadata": {
  "kernelspec": {
   "display_name": "Python 3",
   "language": "python",
   "name": "python3"
  },
  "language_info": {
   "codemirror_mode": {
    "name": "ipython",
    "version": 3
   },
   "file_extension": ".py",
   "mimetype": "text/x-python",
   "name": "python",
   "nbconvert_exporter": "python",
   "pygments_lexer": "ipython3",
   "version": "3.8.8"
  }
 },
 "nbformat": 4,
 "nbformat_minor": 5
}
